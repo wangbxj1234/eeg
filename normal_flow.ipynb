{
  "nbformat": 4,
  "nbformat_minor": 0,
  "metadata": {
    "colab": {
      "provenance": [],
      "authorship_tag": "ABX9TyOItUa79lsZggucpvKHbKXB",
      "include_colab_link": true
    },
    "kernelspec": {
      "name": "python3",
      "display_name": "Python 3"
    },
    "language_info": {
      "name": "python"
    }
  },
  "cells": [
    {
      "cell_type": "markdown",
      "metadata": {
        "id": "view-in-github",
        "colab_type": "text"
      },
      "source": [
        "<a href=\"https://colab.research.google.com/github/wangbxj1234/eeg/blob/main/normal_flow.ipynb\" target=\"_parent\"><img src=\"https://colab.research.google.com/assets/colab-badge.svg\" alt=\"Open In Colab\"/></a>"
      ]
    },
    {
      "cell_type": "code",
      "execution_count": 1,
      "metadata": {
        "id": "GJHLxWAUdMZR"
      },
      "outputs": [],
      "source": [
        "import torch\n",
        "import torch.nn as nn\n",
        "\n",
        "\n",
        "## Core code for Flow-Attention, Please refer to each folder for corresponding experiments\n",
        "\n",
        "class Flow_Attention(nn.Module):\n",
        "    # flow attention in normal version\n",
        "    def __init__(self, d_input, d_model, d_output, n_heads, drop_out=0.05, eps=1e-6):\n",
        "        super(Flow_Attention, self).__init__()\n",
        "        self.n_heads = n_heads\n",
        "        self.query_projection = nn.Linear(d_input, d_model)\n",
        "        self.key_projection = nn.Linear(d_input, d_model)\n",
        "        self.value_projection = nn.Linear(d_input, d_model)\n",
        "        self.out_projection = nn.Linear(d_model, d_output)\n",
        "        self.dropout = nn.Dropout(drop_out)\n",
        "        self.eps = eps\n",
        "\n",
        "    def kernel_method(self, x):\n",
        "        return torch.sigmoid(x)\n",
        "\n",
        "    def dot_product(self, q, k, v):\n",
        "        kv = torch.einsum(\"nhld,nhlm->nhdm\", k, v)\n",
        "        qkv = torch.einsum(\"nhld,nhdm->nhlm\", q, kv)\n",
        "        return qkv\n",
        "\n",
        "    def forward(self, x):\n",
        "        ## input: B (L or S) D; output: B L D\n",
        "        ## Note: queries, keys, values are not projected yet\n",
        "        ## 1. Linear projection\n",
        "        B, L, _ = x.shape\n",
        "        _, S, _ = x.shape\n",
        "        queries = self.query_projection(x).view(B, L, self.n_heads, -1)\n",
        "        keys = self.key_projection(x).view(B, S, self.n_heads, -1)\n",
        "        values = self.value_projection(x).view(B, S, self.n_heads, -1)\n",
        "        queries = queries.transpose(1, 2)\n",
        "        keys = keys.transpose(1, 2)\n",
        "        values = values.transpose(1, 2)\n",
        "        # 2. Non-negative projection\n",
        "        queries = self.kernel_method(queries)\n",
        "        keys = self.kernel_method(keys)\n",
        "        ## 3. Flow-Attention\n",
        "        # (1) Calculate incoming and outgoing flow\n",
        "        sink_incoming = 1.0 / (torch.einsum(\"nhld,nhd->nhl\", queries + self.eps, keys.sum(dim=2) + self.eps))\n",
        "        source_outgoing = 1.0 / (torch.einsum(\"nhld,nhd->nhl\", keys + self.eps, queries.sum(dim=2) + self.eps))\n",
        "        # (2) conservation refine for source and sink\n",
        "        conserved_sink = torch.einsum(\"nhld,nhd->nhl\", queries + self.eps,\n",
        "                                      (keys * source_outgoing[:, :, :, None]).sum(dim=2) + self.eps)\n",
        "        conserved_source = torch.einsum(\"nhld,nhd->nhl\", keys + self.eps,\n",
        "                                        (queries * sink_incoming[:, :, :, None]).sum(dim=2) + self.eps)\n",
        "        conserved_source = torch.clamp(conserved_source, min=-1.0, max=1.0)  # for stability\n",
        "        # (3) Competition & Allocation\n",
        "        sink_allocation = torch.sigmoid(conserved_sink * (float(queries.shape[2]) / float(keys.shape[2])))\n",
        "        source_competition = torch.softmax(conserved_source, dim=-1) * float(keys.shape[2])\n",
        "        # (4) dot product\n",
        "        x = (self.dot_product(queries * sink_incoming[:, :, :, None],  # for value normalization\n",
        "                              keys,\n",
        "                              values * source_competition[:, :, :, None])  # competition\n",
        "             * sink_allocation[:, :, :, None]).transpose(1, 2)  # allocation\n",
        "        ## (5) Final projection\n",
        "        x = x.reshape(B, L, -1)\n",
        "        x = self.out_projection(x)\n",
        "        x = self.dropout(x)\n",
        "        return x\n",
        "\n",
        "\n",
        "class Flow_Attention_Causal(nn.Module):\n",
        "    # flow attention in causal version\n",
        "    def __init__(self, d_input, d_model, d_output, n_heads, drop_out=0.05, eps=1e-6):\n",
        "        super(Flow_Attention_Causal, self).__init__()\n",
        "        self.n_heads = n_heads\n",
        "        self.query_projection = nn.Linear(d_input, d_model)\n",
        "        self.key_projection = nn.Linear(d_input, d_model)\n",
        "        self.value_projection = nn.Linear(d_input, d_model)\n",
        "        self.out_projection = nn.Linear(d_model, d_output)\n",
        "        self.dropout = nn.Dropout(drop_out)\n",
        "        self.eps = eps\n",
        "\n",
        "    def kernel_method(self, x):\n",
        "        return torch.sigmoid(x)\n",
        "\n",
        "    def causal_dot_product(self, q, k, v):\n",
        "        kv = torch.einsum(\"nhld,nhlm->nhldm\", k, v)\n",
        "        kv = torch.cumsum(kv, dim=2)\n",
        "        qkv = torch.einsum(\"nhld,nhldm->nhlm\", q, kv)\n",
        "        return qkv\n",
        "\n",
        "    def forward(self, x):\n",
        "        ## input: B (L or S) D; output: B L D\n",
        "        ## Note: queries, keys, values are not projected yet\n",
        "        ## 1. Linear projection\n",
        "        B, L, _ = x.shape\n",
        "        _, S, _ = x.shape\n",
        "        queries = self.query_projection(x).view(B, L, self.n_heads, -1)\n",
        "        keys = self.key_projection(x).view(B, S, self.n_heads, -1)\n",
        "        values = self.value_projection(x).view(B, S, self.n_heads, -1)\n",
        "        queries = queries.transpose(1, 2)\n",
        "        keys = keys.transpose(1, 2)\n",
        "        values = values.transpose(1, 2)\n",
        "        # 2. Non-negative projection\n",
        "        queries = self.kernel_method(queries)\n",
        "        keys = self.kernel_method(keys)\n",
        "        ## 3. Causal Flow-Attention\n",
        "        # (1) Calculate incoming and outgoing flow\n",
        "        sink_incoming = 1.0 / (torch.einsum(\"nhld,nhld->nhl\", queries + self.eps, keys.cumsum(dim=2) + self.eps))\n",
        "        source_outgoing = 1.0 / (torch.einsum(\"nhld,nhld->nhl\", keys + self.eps, queries.cumsum(dim=2) + self.eps))\n",
        "        # approximate normal conservation col and row by multiplying corresponding element number\n",
        "        normal = (((torch.arange(queries.shape[2])).float() + 1.0)).to(queries.device)[None, None, :]\n",
        "        sink_incoming = sink_incoming * normal\n",
        "        source_outgoing = source_outgoing * normal\n",
        "        # (2) conservation refine for source and sink\n",
        "        conserved_sink = torch.einsum(\"nhld,nhld->nhl\", queries + self.eps,\n",
        "                                      (keys * source_outgoing[:, :, :, None]).cumsum(dim=2) + self.eps) / normal\n",
        "        conserved_source = torch.einsum(\"nhld,nhld->nhl\", keys + self.eps,\n",
        "                                        (queries * sink_incoming[:, :, :, None]).cumsum(\n",
        "                                            dim=2) + self.eps) / normal\n",
        "        conserved_source = torch.clamp(conserved_source, min=-1.0, max=1.0)  # for stability\n",
        "        # (3) Competition & Allocation\n",
        "        sink_allocation = torch.sigmoid(conserved_sink)\n",
        "        conserved_source = torch.exp(conserved_source)\n",
        "        source_competition = (conserved_source / conserved_source.cumsum(dim=-1)) * normal\n",
        "        # (4) Causal dot product\n",
        "        x = (self.causal_dot_product(queries * (sink_incoming[:, :, :, None] / normal[:, :, :, None]),  # for value normalization\n",
        "                                     keys,\n",
        "                                     values * source_competition[:, :, :, None])  # competition\n",
        "             * sink_allocation[:, :, :, None]).transpose(1, 2)  # allocation\n",
        "        ## (5) Final projection\n",
        "        x = x.reshape(B, L, -1)\n",
        "        x = self.out_projection(x)\n",
        "        x = self.dropout(x)\n",
        "        return x\n",
        "\n",
        "\n",
        "if __name__ == '__main__':\n",
        "    # just for simple test\n",
        "    attn_normal = Flow_Attention(10, 16, 16, 4)\n",
        "    attn_causal = Flow_Attention_Causal(10, 16, 16, 4)\n",
        "    x = torch.rand([1, 100, 10])\n",
        "    x_attn_normal = attn_normal(x)\n",
        "    x_attn_causal = attn_causal(x)\n",
        "    assert x_attn_normal.shape == (1, 100, 16)\n",
        "    assert x_attn_causal.shape == (1, 100, 16)"
      ]
    },
    {
      "cell_type": "code",
      "source": [
        "x_attn_normal.size()"
      ],
      "metadata": {
        "colab": {
          "base_uri": "https://localhost:8080/"
        },
        "id": "tnodZkQPdsf5",
        "outputId": "36e57609-2875-457b-a042-4187f865cca7"
      },
      "execution_count": 2,
      "outputs": [
        {
          "output_type": "execute_result",
          "data": {
            "text/plain": [
              "torch.Size([1, 100, 16])"
            ]
          },
          "metadata": {},
          "execution_count": 2
        }
      ]
    },
    {
      "cell_type": "code",
      "source": [
        "x_attn_causal.size()"
      ],
      "metadata": {
        "colab": {
          "base_uri": "https://localhost:8080/"
        },
        "id": "WMWLxirsdwhd",
        "outputId": "502e6722-703f-4b0a-bc58-dc7e85d3ce3e"
      },
      "execution_count": 3,
      "outputs": [
        {
          "output_type": "execute_result",
          "data": {
            "text/plain": [
              "torch.Size([1, 100, 16])"
            ]
          },
          "metadata": {},
          "execution_count": 3
        }
      ]
    }
  ]
}