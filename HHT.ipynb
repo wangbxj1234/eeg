{
  "cells": [
    {
      "cell_type": "markdown",
      "metadata": {
        "id": "view-in-github",
        "colab_type": "text"
      },
      "source": [
        "<a href=\"https://colab.research.google.com/github/wangbxj1234/eeg/blob/main/HHT.ipynb\" target=\"_parent\"><img src=\"https://colab.research.google.com/assets/colab-badge.svg\" alt=\"Open In Colab\"/></a>"
      ]
    },
    {
      "cell_type": "code",
      "source": [
        "!pip install pyhht"
      ],
      "metadata": {
        "colab": {
          "base_uri": "https://localhost:8080/"
        },
        "id": "jDZHVtpqG0n1",
        "outputId": "f5a872ce-0d09-4372-8c7a-2004c5fcfa37"
      },
      "id": "jDZHVtpqG0n1",
      "execution_count": 5,
      "outputs": [
        {
          "output_type": "stream",
          "name": "stdout",
          "text": [
            "Looking in indexes: https://pypi.org/simple, https://us-python.pkg.dev/colab-wheels/public/simple/\n",
            "Collecting pyhht\n",
            "  Downloading pyhht-0.1.0-py3-none-any.whl (9.1 kB)\n",
            "Requirement already satisfied: six in /usr/local/lib/python3.8/dist-packages (from pyhht) (1.15.0)\n",
            "Requirement already satisfied: matplotlib in /usr/local/lib/python3.8/dist-packages (from pyhht) (3.2.2)\n",
            "Requirement already satisfied: numpy in /usr/local/lib/python3.8/dist-packages (from pyhht) (1.21.6)\n",
            "Requirement already satisfied: scipy in /usr/local/lib/python3.8/dist-packages (from pyhht) (1.7.3)\n",
            "Requirement already satisfied: cycler>=0.10 in /usr/local/lib/python3.8/dist-packages (from matplotlib->pyhht) (0.11.0)\n",
            "Requirement already satisfied: kiwisolver>=1.0.1 in /usr/local/lib/python3.8/dist-packages (from matplotlib->pyhht) (1.4.4)\n",
            "Requirement already satisfied: pyparsing!=2.0.4,!=2.1.2,!=2.1.6,>=2.0.1 in /usr/local/lib/python3.8/dist-packages (from matplotlib->pyhht) (3.0.9)\n",
            "Requirement already satisfied: python-dateutil>=2.1 in /usr/local/lib/python3.8/dist-packages (from matplotlib->pyhht) (2.8.2)\n",
            "Installing collected packages: pyhht\n",
            "Successfully installed pyhht-0.1.0\n"
          ]
        }
      ]
    },
    {
      "cell_type": "code",
      "execution_count": 6,
      "id": "5cd12149",
      "metadata": {
        "id": "5cd12149"
      },
      "outputs": [],
      "source": [
        "import pyhht\n",
        "from pyhht import EMD"
      ]
    },
    {
      "cell_type": "code",
      "source": [
        "import numpy as np\n",
        "def hht(X_train):\n",
        "\n",
        "        # train data\n",
        "        #self.total_data = scipy.io.loadmat(self.root + 'A0%dT.mat' % self.nSub)\n",
        "        #self.train_data = self.total_data['data']\n",
        "        ###\n",
        "\n",
        "        no_of_imfs = 4\n",
        "        x_train = np.zeros((X_train.shape[0], X_train.shape[1], no_of_imfs, X_train.shape[2]), dtype = np.float32)\n",
        "        print('1',x_train.shape)\n",
        "        for trial in range(0,X_train.shape[0]):\n",
        "            for channel in range(0, X_train.shape[1]):\n",
        "                decomposer = EMD(X_train[trial][channel])\n",
        "                imfs = decomposer.decompose()\n",
        "                print('2',imfs.shape)\n",
        "                for i in range(0,no_of_imfs):\n",
        "                    x_train[trial][channel][i] = imfs[i]\n",
        "        #train_data = np.reshape(x_train,(288,88,1000))\n",
        "\n",
        "        return x_train"
      ],
      "metadata": {
        "id": "VsruRjiGHJjN"
      },
      "id": "VsruRjiGHJjN",
      "execution_count": 19,
      "outputs": []
    },
    {
      "cell_type": "code",
      "source": [
        "input=np.random.rand(1, 22, 100)\n",
        "out=hht(input)\n",
        "print(out.shape)"
      ],
      "metadata": {
        "colab": {
          "base_uri": "https://localhost:8080/"
        },
        "id": "Vh8U4Y1jHoXL",
        "outputId": "bf722204-1f0f-4d7f-92b2-b6d9cd4d7dc6"
      },
      "id": "Vh8U4Y1jHoXL",
      "execution_count": 21,
      "outputs": [
        {
          "output_type": "stream",
          "name": "stdout",
          "text": [
            "1 (1, 22, 4, 100)\n",
            "2 (5, 100)\n",
            "2 (5, 100)\n",
            "2 (5, 100)\n",
            "2 (5, 100)\n",
            "2 (6, 100)\n",
            "2 (6, 100)\n",
            "2 (5, 100)\n",
            "2 (5, 100)\n",
            "2 (5, 100)\n",
            "2 (6, 100)\n",
            "2 (6, 100)\n",
            "2 (5, 100)\n",
            "2 (5, 100)\n",
            "2 (5, 100)\n",
            "2 (5, 100)\n",
            "2 (5, 100)\n",
            "2 (5, 100)\n",
            "2 (5, 100)\n",
            "2 (6, 100)\n",
            "2 (5, 100)\n",
            "2 (5, 100)\n",
            "2 (5, 100)\n",
            "(1, 22, 4, 100)\n"
          ]
        }
      ]
    },
    {
      "cell_type": "code",
      "execution_count": null,
      "id": "bbae053b",
      "metadata": {
        "id": "bbae053b"
      },
      "outputs": [],
      "source": [
        "import scipy\n",
        "\n",
        "for i in range(1,10):\n",
        "        total_data=scipy.io.loadmat('D:\\dataset\\standard_2a_data' + 'A0%dT.mat' % i);\n",
        "        train_data = total_data['data']\n",
        "        train_label = total_data['label']\n",
        "        \n",
        "        para1 = train_data[:,:,1]\n",
        "        para2 = para1[:,1]\n",
        "        IMF = EMD().emd(para2)\n",
        "        \n"
      ]
    },
    {
      "cell_type": "code",
      "execution_count": null,
      "id": "9e1deda7",
      "metadata": {
        "id": "9e1deda7",
        "outputId": "c6ff5da3-7ffb-4d0e-967e-62d4217770d6"
      },
      "outputs": [
        {
          "data": {
            "text/plain": [
              "(2, 200)"
            ]
          },
          "execution_count": 7,
          "metadata": {},
          "output_type": "execute_result"
        }
      ],
      "source": [
        "import numpy as np\n",
        "import pylab as plt\n",
        "\n",
        "t = np.linspace(0,1,200)\n",
        "s = np.cos(11*2*np.pi*t*t) + 6*t*t\n",
        "\n",
        "IMF = EMD().emd(s,t)\n",
        "np.shape(IMF)"
      ]
    },
    {
      "cell_type": "code",
      "execution_count": null,
      "id": "582978cb",
      "metadata": {
        "id": "582978cb",
        "outputId": "53612abd-30a7-4180-9fcd-ea53699bf881"
      },
      "outputs": [
        {
          "ename": "TypeError",
          "evalue": "__init__() missing 1 required positional argument: 'x'",
          "output_type": "error",
          "traceback": [
            "\u001b[1;31m---------------------------------------------------------------------------\u001b[0m",
            "\u001b[1;31mTypeError\u001b[0m                                 Traceback (most recent call last)",
            "Input \u001b[1;32mIn [16]\u001b[0m, in \u001b[0;36m<cell line: 6>\u001b[1;34m()\u001b[0m\n\u001b[0;32m      4\u001b[0m a \u001b[38;5;241m=\u001b[39m train_data[:,:,\u001b[38;5;241m1\u001b[39m]\n\u001b[0;32m      5\u001b[0m b \u001b[38;5;241m=\u001b[39m a[:,\u001b[38;5;241m1\u001b[39m]\n\u001b[1;32m----> 6\u001b[0m IMF \u001b[38;5;241m=\u001b[39m \u001b[43mEMD\u001b[49m\u001b[43m(\u001b[49m\u001b[43m)\u001b[49m\u001b[38;5;241m.\u001b[39memd(b)\n",
            "\u001b[1;31mTypeError\u001b[0m: __init__() missing 1 required positional argument: 'x'"
          ]
        }
      ],
      "source": [
        "import scipy.io\n",
        "total_data = scipy.io.loadmat('D:\\dataset\\standard_2a_data\\A01T.mat');\n",
        "train_data = total_data['data']\n",
        "a = train_data[:,:,1]\n",
        "b = a[:,1]\n",
        "IMF = EMD().emd(b)\n"
      ]
    },
    {
      "cell_type": "code",
      "execution_count": null,
      "id": "ce465018",
      "metadata": {
        "scrolled": true,
        "id": "ce465018",
        "outputId": "561248e9-827f-486f-db18-1ce5e34838df"
      },
      "outputs": [
        {
          "data": {
            "text/plain": [
              "(288, 1, 22, 1000)"
            ]
          },
          "execution_count": 41,
          "metadata": {},
          "output_type": "execute_result"
        }
      ],
      "source": [
        "t = np.transpose(train_data, (2, 1, 0))\n",
        "d = np.expand_dims(t, axis=1)\n",
        "np.shape(d)"
      ]
    },
    {
      "cell_type": "code",
      "execution_count": null,
      "id": "2c61a3a7",
      "metadata": {
        "id": "2c61a3a7"
      },
      "outputs": [],
      "source": [
        "import pyhht\n",
        "from pyhht import EMD"
      ]
    },
    {
      "cell_type": "code",
      "execution_count": null,
      "id": "cac39e8b",
      "metadata": {
        "id": "cac39e8b",
        "outputId": "ad1d5248-b99b-4f55-b006-83f513b579b0"
      },
      "outputs": [
        {
          "data": {
            "text/plain": [
              "(1000, 22, 288)"
            ]
          },
          "execution_count": 46,
          "metadata": {},
          "output_type": "execute_result"
        }
      ],
      "source": [
        "np.shape(train_data)"
      ]
    },
    {
      "cell_type": "code",
      "execution_count": null,
      "id": "354a6366",
      "metadata": {
        "id": "354a6366"
      },
      "outputs": [],
      "source": [
        "train_label = total_data['label']\n",
        "train_label = np.transpose(train_label)\n",
        "allLabel = train_label[0]"
      ]
    },
    {
      "cell_type": "code",
      "execution_count": null,
      "id": "0e90ebf8",
      "metadata": {
        "id": "0e90ebf8",
        "outputId": "e00d612b-3916-4b7d-b5b9-204010950154"
      },
      "outputs": [
        {
          "data": {
            "text/plain": [
              "(288,)"
            ]
          },
          "execution_count": 13,
          "metadata": {},
          "output_type": "execute_result"
        }
      ],
      "source": [
        "np.shape(allLabel)"
      ]
    },
    {
      "cell_type": "markdown",
      "id": "14033091",
      "metadata": {
        "id": "14033091"
      },
      "source": [
        "正式："
      ]
    },
    {
      "cell_type": "code",
      "execution_count": null,
      "id": "cc482bb2",
      "metadata": {
        "id": "cc482bb2"
      },
      "outputs": [],
      "source": [
        "import scipy.io\n",
        "import numpy as np\n",
        "import pylab as plt\n",
        "from scipy.signal import hilbert\n",
        "from pyhht.visualization import plot_imfs\n",
        "import pyhht\n",
        "from pyhht import EMD\n",
        "import time\n",
        "from numpy import asarray\n",
        "from tqdm import tqdm\n",
        "import re\n",
        "from PIL import Image\n",
        "import time\n",
        "import pywt"
      ]
    },
    {
      "cell_type": "code",
      "execution_count": null,
      "id": "9a5c5029",
      "metadata": {
        "scrolled": true,
        "id": "9a5c5029",
        "outputId": "c5c5bacf-15d9-413b-e1f3-007409fe301a"
      },
      "outputs": [
        {
          "name": "stdout",
          "output_type": "stream",
          "text": [
            "Mode 7, Iteration 600\n",
            "1 minima > 0; 2 maxima < 0.\n",
            "Mode 5, Iteration 600\n",
            "0 minima > 0; 6 maxima < 0.\n",
            "Mode 5, Iteration 600\n",
            "0 minima > 0; 5 maxima < 0.\n",
            "Mode 5, Iteration 800\n",
            "1 minima > 0; 5 maxima < 0.\n",
            "Mode 5, Iteration 600\n",
            "1 minima > 0; 7 maxima < 0.\n",
            "Mode 5, Iteration 800\n",
            "1 minima > 0; 7 maxima < 0.\n",
            "Mode 5, Iteration 1000\n",
            "1 minima > 0; 7 maxima < 0.\n",
            "Mode 5, Iteration 1200\n",
            "1 minima > 0; 7 maxima < 0.\n",
            "Mode 5, Iteration 1400\n",
            "1 minima > 0; 7 maxima < 0.\n",
            "Mode 5, Iteration 600\n",
            "1 minima > 0; 6 maxima < 0.\n",
            "Mode 5, Iteration 800\n",
            "1 minima > 0; 6 maxima < 0.\n",
            "Mode 5, Iteration 1000\n",
            "1 minima > 0; 6 maxima < 0.\n",
            "Mode 5, Iteration 600\n",
            "0 minima > 0; 6 maxima < 0.\n",
            "Mode 5, Iteration 800\n",
            "0 minima > 0; 6 maxima < 0.\n",
            "Mode 5, Iteration 600\n",
            "0 minima > 0; 6 maxima < 0.\n",
            "Mode 5, Iteration 800\n",
            "0 minima > 0; 6 maxima < 0.\n",
            "Mode 5, Iteration 1000\n",
            "0 minima > 0; 6 maxima < 0.\n",
            "Mode 5, Iteration 1200\n",
            "0 minima > 0; 6 maxima < 0.\n",
            "Mode 6, Iteration 600\n",
            "0 minima > 0; 6 maxima < 0.\n",
            "Mode 5, Iteration 600\n",
            "0 minima > 0; 6 maxima < 0.\n",
            "Mode 5, Iteration 600\n",
            "1 minima > 0; 4 maxima < 0.\n",
            "Mode 5, Iteration 800\n",
            "0 minima > 0; 5 maxima < 0.\n",
            "Mode 6, Iteration 1000\n",
            "0 minima > 0; 4 maxima < 0.\n",
            "Mode 5, Iteration 600\n",
            "0 minima > 0; 4 maxima < 0.\n",
            "Mode 7, Iteration 800\n",
            "0 minima > 0; 3 maxima < 0.\n",
            "Mode 5, Iteration 600\n",
            "1 minima > 0; 4 maxima < 0.\n",
            "Mode 5, Iteration 800\n",
            "1 minima > 0; 4 maxima < 0.\n",
            "Mode 5, Iteration 1000\n",
            "1 minima > 0; 4 maxima < 0.\n",
            "Mode 6, Iteration 1200\n",
            "0 minima > 0; 4 maxima < 0.\n",
            "Mode 4, Iteration 600\n",
            "1 minima > 0; 7 maxima < 0.\n",
            "Mode 4, Iteration 800\n",
            "1 minima > 0; 7 maxima < 0.\n",
            "Mode 4, Iteration 1000\n",
            "1 minima > 0; 7 maxima < 0.\n",
            "Mode 4, Iteration 1200\n",
            "1 minima > 0; 7 maxima < 0.\n"
          ]
        }
      ],
      "source": [
        "total_data = scipy.io.loadmat('D:\\dataset\\standard_2a_data\\A01T.mat');\n",
        "train_data = total_data['data']\n",
        "X_train = np.transpose(train_data, (2, 1, 0))\n",
        "no_of_imfs = 4\n",
        "x_train = np.zeros((X_train.shape[0], X_train.shape[1], no_of_imfs, X_train.shape[2]), dtype = np.float32)\n",
        "for trial in range(0,X_train.shape[0]):\n",
        "    for channel in range(0, X_train.shape[1]):\n",
        "        decomposer = EMD(X_train[trial][channel])\n",
        "        imfs = decomposer.decompose()\n",
        "        for i in range(0,no_of_imfs):\n",
        "            x_train[trial][channel][i] = imfs[i]"
      ]
    },
    {
      "cell_type": "code",
      "execution_count": null,
      "id": "259fb4c5",
      "metadata": {
        "id": "259fb4c5",
        "outputId": "f0f2c4ca-a0b3-4f91-bbdd-7993eaf4d622"
      },
      "outputs": [
        {
          "data": {
            "text/plain": [
              "(288, 22, 4, 1000)"
            ]
          },
          "execution_count": 3,
          "metadata": {},
          "output_type": "execute_result"
        }
      ],
      "source": [
        "np.shape(x_train)"
      ]
    },
    {
      "cell_type": "code",
      "execution_count": null,
      "id": "12280ff8",
      "metadata": {
        "id": "12280ff8"
      },
      "outputs": [],
      "source": [
        "x_train=np.reshape(x_train,(288,88,1000))\n",
        "allData = np.expand_dims(x_train, axis=1)\n",
        "target_mean = np.mean(allData)\n",
        "target_std = np.std(allData)\n",
        "allData = (allData - target_mean) / target_std######## (288, 1, 22, 4,1000)  "
      ]
    },
    {
      "cell_type": "code",
      "execution_count": null,
      "id": "bacde7b8",
      "metadata": {
        "id": "bacde7b8"
      },
      "outputs": [],
      "source": [
        "import numpy as np\n",
        "import matplotlib.pyplot as plt\n",
        "from numpy.linalg import eig\n",
        "\n",
        "\n",
        "def csp(data_train, label_train):\n",
        "    idx_0 = np.squeeze(np.where(label_train == 0))\n",
        "    idx_1 = np.squeeze(np.where(label_train == 1))\n",
        "    idx_2 = np.squeeze(np.where(label_train == 2))\n",
        "    idx_3 = np.squeeze(np.where(label_train == 3))\n",
        "\n",
        "    W = []\n",
        "    for n_class in range(4):\n",
        "        if n_class == 0:\n",
        "            idx_L = idx_0\n",
        "            idx_R = np.concatenate((idx_1, idx_2, idx_3))\n",
        "        elif n_class == 1:\n",
        "            idx_L = idx_1\n",
        "            idx_R = np.concatenate((idx_0, idx_2, idx_3))\n",
        "        elif n_class == 2:\n",
        "            idx_L = idx_2\n",
        "            idx_R = np.concatenate((idx_0, idx_1, idx_3))\n",
        "        elif n_class == 3:\n",
        "            idx_L = idx_3\n",
        "            idx_R = np.concatenate((idx_0, idx_1, idx_2))\n",
        "\n",
        "        idx_R = np.sort(idx_R)\n",
        "        Cov_L = np.zeros([88, 88, len(idx_L)])\n",
        "        Cov_R = np.zeros([88, 88, len(idx_R)])\n",
        "\n",
        "        for nL in range(len(idx_L)):\n",
        "            E = data_train[idx_L[nL], :, :]\n",
        "            EE = np.dot(E.transpose(), E)\n",
        "            Cov_L[:, :, nL] = EE / np.trace(EE)\n",
        "        for nR in range(len(idx_R)):\n",
        "            E = data_train[idx_R[nR], :, :]\n",
        "            EE = np.dot(E.transpose(), E)\n",
        "            Cov_R[:, :, nR] = EE / np.trace(EE)\n",
        "\n",
        "        Cov_L = np.mean(Cov_L, axis=2)\n",
        "        Cov_R = np.mean(Cov_R, axis=2)\n",
        "        CovTotal = Cov_L + Cov_R\n",
        "\n",
        "        lam, Uc = eig(CovTotal)\n",
        "        eigorder = np.argsort(lam)\n",
        "        eigorder = eigorder[::-1]\n",
        "        lam = lam[eigorder]\n",
        "        Ut = Uc[:, eigorder]\n",
        "\n",
        "        Ptmp = np.sqrt(np.diag(np.power(lam, -1)))\n",
        "        P = np.dot(Ptmp, Ut.transpose())\n",
        "\n",
        "        SL = np.dot(P, Cov_L)\n",
        "        SLL = np.dot(SL, P.transpose())\n",
        "        SR = np.dot(P, Cov_R)\n",
        "        SRR = np.dot(SR, P.transpose())\n",
        "\n",
        "        lam_R, BR = eig(SRR)\n",
        "        erorder = np.argsort(lam_R)\n",
        "        B = BR[:, erorder]\n",
        "\n",
        "        w = np.dot(P.transpose(), B)\n",
        "        W.append(w)\n",
        "\n",
        "    Wb = np.concatenate((W[0][:, 0:4], W[1][:, 0:4], W[2][:, 0:4], W[3][:, 0:4]), axis=1)\n",
        "    # The original one is two use the first and last r row, I just use the first 2r.\n",
        "    # Not significant difference, 2r could be better.\n",
        "\n",
        "    return Wb"
      ]
    },
    {
      "cell_type": "code",
      "execution_count": null,
      "id": "7bf5c2f5",
      "metadata": {
        "id": "7bf5c2f5"
      },
      "outputs": [],
      "source": [
        "tmp_alldata = np.transpose(np.squeeze(allData), (0, 2, 1)) \n",
        "Wb = csp(tmp_alldata, allLabel-1)  # common spatial pattern \n",
        "allData = np.einsum('abcd, ce -> abed',allData, Wb)   ###### \n",
        "###testData = np.einsum('abcd, ce -> abed', self.testData, Wb)"
      ]
    },
    {
      "cell_type": "code",
      "execution_count": null,
      "id": "820a7c8a",
      "metadata": {
        "id": "820a7c8a",
        "outputId": "b5616789-e62e-430a-bab9-c725125b6da8"
      },
      "outputs": [
        {
          "name": "stdout",
          "output_type": "stream",
          "text": [
            "(288, 1000, 88) (88, 16) (288, 1, 16, 1000)\n"
          ]
        }
      ],
      "source": [
        "#np.shape(tmp_alldata)\n",
        "print(np.shape(tmp_alldata),np.shape(Wb),np.shape(allData))"
      ]
    },
    {
      "cell_type": "markdown",
      "id": "e5067af9",
      "metadata": {
        "id": "e5067af9"
      },
      "source": [
        "#########################################"
      ]
    },
    {
      "cell_type": "code",
      "execution_count": null,
      "id": "6591c9e2",
      "metadata": {
        "id": "6591c9e2"
      },
      "outputs": [],
      "source": [
        "signal= hilbert(x_train)\n",
        "signal_real = np.real(signal)\n",
        "signal_imag = np.imag(signal)"
      ]
    },
    {
      "cell_type": "markdown",
      "id": "3977c083",
      "metadata": {
        "id": "3977c083"
      },
      "source": [
        "________________________"
      ]
    },
    {
      "cell_type": "code",
      "execution_count": null,
      "id": "3b417ebb",
      "metadata": {
        "id": "3b417ebb"
      },
      "outputs": [],
      "source": [
        "xt = np.dstack((signal_real, signal_imag))"
      ]
    },
    {
      "cell_type": "code",
      "execution_count": null,
      "id": "3b64cd7a",
      "metadata": {
        "id": "3b64cd7a",
        "outputId": "67660c8f-7650-42f3-b435-108ea816137d"
      },
      "outputs": [
        {
          "data": {
            "text/plain": [
              "(288, 22, 8, 1000)"
            ]
          },
          "execution_count": 75,
          "metadata": {},
          "output_type": "execute_result"
        }
      ],
      "source": [
        "np.shape(xt)"
      ]
    },
    {
      "cell_type": "code",
      "execution_count": null,
      "id": "eb4afdea",
      "metadata": {
        "id": "eb4afdea"
      },
      "outputs": [],
      "source": [
        "xt = xt.reshape(xt.shape[0], xt.shape[1] * xt.shape[2], xt.shape[3])"
      ]
    },
    {
      "cell_type": "code",
      "execution_count": null,
      "id": "be0ce397",
      "metadata": {
        "id": "be0ce397",
        "outputId": "8905272f-b5df-4cf1-c2df-05b7518be6dd"
      },
      "outputs": [
        {
          "data": {
            "text/plain": [
              "(288, 176, 1000)"
            ]
          },
          "execution_count": 77,
          "metadata": {},
          "output_type": "execute_result"
        }
      ],
      "source": [
        "np.shape(xt)"
      ]
    },
    {
      "cell_type": "markdown",
      "id": "e9e13242",
      "metadata": {
        "id": "e9e13242"
      },
      "source": [
        "________________________"
      ]
    },
    {
      "cell_type": "code",
      "execution_count": null,
      "id": "fba5c1fc",
      "metadata": {
        "id": "fba5c1fc"
      },
      "outputs": [],
      "source": [
        "inst_phase = np.unwrap(np.angle(signal)) # unwrapped instantaneous phase\n",
        "inst_freq = np.diff(inst_phase) # instantaneous frequency\n",
        "amplitude = np.abs(signal)"
      ]
    },
    {
      "cell_type": "code",
      "execution_count": null,
      "id": "fcbbb619",
      "metadata": {
        "id": "fcbbb619",
        "outputId": "8c8185fb-38af-478c-96a4-954ed2f66b3f"
      },
      "outputs": [
        {
          "name": "stdout",
          "output_type": "stream",
          "text": [
            "(288, 22, 4, 1000) (288, 22, 4, 999) (288, 22, 4, 1000)\n"
          ]
        }
      ],
      "source": [
        "print(np.shape(inst_phase),np.shape(inst_freq),np.shape(amplitude))"
      ]
    },
    {
      "cell_type": "code",
      "execution_count": null,
      "id": "82913cc8",
      "metadata": {
        "id": "82913cc8"
      },
      "outputs": [],
      "source": [
        "# calculating frequency\n",
        "freq = np.zeros((amplitude.shape[0], amplitude.shape[1], amplitude.shape[2], amplitude.shape[3]), dtype = np.float32)\n",
        "sh = inst_freq.shape[2] - 1\n",
        "for i in range(amplitude.shape[0]):\n",
        "    for j in range(amplitude.shape[1]):\n",
        "        for k in range(amplitude.shape[2]):\n",
        "            freq[i][j][k] = np.append(inst_freq[i][j][k], inst_freq[i][j][k][sh])   "
      ]
    },
    {
      "cell_type": "code",
      "execution_count": null,
      "id": "0c841fb8",
      "metadata": {
        "id": "0c841fb8",
        "outputId": "fa4809c2-5890-450f-b537-49508db3598d"
      },
      "outputs": [
        {
          "data": {
            "text/plain": [
              "(288, 22, 4, 1000)"
            ]
          },
          "execution_count": 8,
          "metadata": {},
          "output_type": "execute_result"
        }
      ],
      "source": [
        "np.shape(freq)"
      ]
    },
    {
      "cell_type": "code",
      "execution_count": null,
      "id": "4389ea9e",
      "metadata": {
        "id": "4389ea9e"
      },
      "outputs": [],
      "source": [
        "x_train_new = np.stack((amplitude,freq),axis=1)"
      ]
    },
    {
      "cell_type": "code",
      "execution_count": null,
      "id": "d98fb2fa",
      "metadata": {
        "id": "d98fb2fa",
        "outputId": "35e9d918-feb7-46e1-fd55-fc4c77e0c6d3"
      },
      "outputs": [
        {
          "data": {
            "text/plain": [
              "(288, 2, 22, 4, 1000)"
            ]
          },
          "execution_count": 17,
          "metadata": {},
          "output_type": "execute_result"
        }
      ],
      "source": [
        "np.shape(x_train_new)"
      ]
    },
    {
      "cell_type": "code",
      "execution_count": null,
      "id": "f6987098",
      "metadata": {
        "id": "f6987098"
      },
      "outputs": [],
      "source": [
        "# reshaping the data\n",
        "x_train_new = x_train_new.reshape(x_train_new.shape[0], x_train_new.shape[2], x_train_new.shape[4], x_train_new.shape[1] * x_train_new.shape[3])\n"
      ]
    },
    {
      "cell_type": "code",
      "execution_count": null,
      "id": "415d9121",
      "metadata": {
        "scrolled": true,
        "id": "415d9121",
        "outputId": "fa960259-c420-4146-f237-28df1acbd6a9"
      },
      "outputs": [
        {
          "data": {
            "text/plain": [
              "(288, 22, 1000, 8)"
            ]
          },
          "execution_count": 19,
          "metadata": {},
          "output_type": "execute_result"
        }
      ],
      "source": [
        "np.shape(x_train_new)"
      ]
    },
    {
      "cell_type": "code",
      "execution_count": null,
      "id": "6dd9bb4f",
      "metadata": {
        "scrolled": true,
        "id": "6dd9bb4f"
      },
      "outputs": [],
      "source": [
        "# my add\n",
        "x_train_new_add = x_train_new.reshape(x_train_new.shape[0],x_train_new.shape[1]*x_train_new.shape[3],x_train_new.shape[2])"
      ]
    },
    {
      "cell_type": "code",
      "execution_count": null,
      "id": "be7b5a69",
      "metadata": {
        "id": "be7b5a69",
        "outputId": "7bbce5fd-b1aa-4dab-bdc9-4a0ed49a3e49"
      },
      "outputs": [
        {
          "data": {
            "text/plain": [
              "(288, 176, 1000)"
            ]
          },
          "execution_count": 21,
          "metadata": {},
          "output_type": "execute_result"
        }
      ],
      "source": [
        "x_train_new_add.shape"
      ]
    },
    {
      "cell_type": "markdown",
      "id": "2f79f252",
      "metadata": {
        "id": "2f79f252"
      },
      "source": [
        "结束"
      ]
    },
    {
      "cell_type": "code",
      "execution_count": null,
      "id": "771ae2e1",
      "metadata": {
        "scrolled": false,
        "id": "771ae2e1",
        "outputId": "d87eb674-9d81-4865-c94e-af804b0aaeb1"
      },
      "outputs": [
        {
          "data": {
            "text/plain": [
              "(288, 22, 1000)"
            ]
          },
          "execution_count": 49,
          "metadata": {},
          "output_type": "execute_result"
        }
      ],
      "source": [
        "np.shape(X_train)"
      ]
    },
    {
      "cell_type": "code",
      "execution_count": null,
      "id": "88b7d17e",
      "metadata": {
        "id": "88b7d17e",
        "outputId": "dcb76b67-07b2-4aa4-addb-a94909699f79"
      },
      "outputs": [
        {
          "data": {
            "text/plain": [
              "[0, 1, 2, 3]"
            ]
          },
          "execution_count": 55,
          "metadata": {},
          "output_type": "execute_result"
        }
      ],
      "source": [
        "list(range(0,4))"
      ]
    },
    {
      "cell_type": "code",
      "execution_count": null,
      "id": "00b17896",
      "metadata": {
        "id": "00b17896"
      },
      "outputs": [],
      "source": [
        "decomposer = EMD(X_train[1][1])\n",
        "imfs = decomposer.decompose()"
      ]
    },
    {
      "cell_type": "code",
      "execution_count": null,
      "id": "2b9f332d",
      "metadata": {
        "scrolled": true,
        "id": "2b9f332d",
        "outputId": "9acf6122-1cf9-4d6a-fb26-29f72d6c13d8"
      },
      "outputs": [
        {
          "data": {
            "text/plain": [
              "(6, 1000)"
            ]
          },
          "execution_count": 58,
          "metadata": {},
          "output_type": "execute_result"
        }
      ],
      "source": [
        "np.shape(imfs)"
      ]
    },
    {
      "cell_type": "code",
      "execution_count": null,
      "id": "8ee185a8",
      "metadata": {
        "id": "8ee185a8",
        "outputId": "25a079c3-45b5-4048-db11-bac3aa986fb7"
      },
      "outputs": [
        {
          "ename": "IndexError",
          "evalue": "index 6 is out of bounds for axis 0 with size 6",
          "output_type": "error",
          "traceback": [
            "\u001b[1;31m---------------------------------------------------------------------------\u001b[0m",
            "\u001b[1;31mIndexError\u001b[0m                                Traceback (most recent call last)",
            "Input \u001b[1;32mIn [63]\u001b[0m, in \u001b[0;36m<cell line: 1>\u001b[1;34m()\u001b[0m\n\u001b[1;32m----> 1\u001b[0m \u001b[43mimfs\u001b[49m\u001b[43m[\u001b[49m\u001b[38;5;241;43m6\u001b[39;49m\u001b[43m]\u001b[49m\n",
            "\u001b[1;31mIndexError\u001b[0m: index 6 is out of bounds for axis 0 with size 6"
          ]
        }
      ],
      "source": [
        "imfs[6]"
      ]
    },
    {
      "cell_type": "code",
      "execution_count": null,
      "id": "916817c4",
      "metadata": {
        "id": "916817c4"
      },
      "outputs": [],
      "source": [
        "total_data = scipy.io.loadmat('D:\\dataset\\standard_2a_data\\A01T.mat');\n",
        "train_data = total_data['data']"
      ]
    }
  ],
  "metadata": {
    "kernelspec": {
      "display_name": "Python 3 (ipykernel)",
      "language": "python",
      "name": "python3"
    },
    "language_info": {
      "codemirror_mode": {
        "name": "ipython",
        "version": 3
      },
      "file_extension": ".py",
      "mimetype": "text/x-python",
      "name": "python",
      "nbconvert_exporter": "python",
      "pygments_lexer": "ipython3",
      "version": "3.9.12"
    },
    "colab": {
      "provenance": [],
      "include_colab_link": true
    }
  },
  "nbformat": 4,
  "nbformat_minor": 5
}