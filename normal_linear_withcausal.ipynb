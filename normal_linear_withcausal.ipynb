{
  "nbformat": 4,
  "nbformat_minor": 0,
  "metadata": {
    "colab": {
      "provenance": [],
      "authorship_tag": "ABX9TyPeocxnKEfpofm0X/W6LzkL",
      "include_colab_link": true
    },
    "kernelspec": {
      "name": "python3",
      "display_name": "Python 3"
    },
    "language_info": {
      "name": "python"
    }
  },
  "cells": [
    {
      "cell_type": "markdown",
      "metadata": {
        "id": "view-in-github",
        "colab_type": "text"
      },
      "source": [
        "<a href=\"https://colab.research.google.com/github/wangbxj1234/eeg/blob/main/normal_linear_withcausal.ipynb\" target=\"_parent\"><img src=\"https://colab.research.google.com/assets/colab-badge.svg\" alt=\"Open In Colab\"/></a>"
      ]
    },
    {
      "cell_type": "code",
      "execution_count": 12,
      "metadata": {
        "id": "GJHLxWAUdMZR"
      },
      "outputs": [],
      "source": [
        "import torch\n",
        "import torch.nn as nn\n",
        "\n",
        "\n",
        "## Core code for Flow-Attention, Please refer to each folder for corresponding experiments\n",
        "\n",
        "class Linear_Attention(nn.Module):\n",
        "    # flow attention in normal version\n",
        "    def __init__(self, d_input, d_model, d_output, n_heads, drop_out=0.05, eps=1e-6):\n",
        "        super(Linear_Attention, self).__init__()\n",
        "        self.n_heads = n_heads\n",
        "        self.query_projection = nn.Linear(d_input, d_model)\n",
        "        self.key_projection = nn.Linear(d_input, d_model)\n",
        "        self.value_projection = nn.Linear(d_input, d_model)\n",
        "        self.out_projection = nn.Linear(d_model, d_output)\n",
        "        self.dropout = nn.Dropout(drop_out)\n",
        "        self.eps = eps\n",
        "\n",
        "    def kernel_method(self, x):\n",
        "        return torch.sigmoid(x)\n",
        "\n",
        "\n",
        "    def forward(self, x):\n",
        "        ## input: B (L or S) D; output: B L D\n",
        "        ## Note: queries, keys, values are not projected yet\n",
        "        ## 1. Linear projection\n",
        "        B, L, _ = x.shape\n",
        "        _, S, _ = x.shape\n",
        "        queries = self.query_projection(x).view(B, L, self.n_heads, -1)\n",
        "        keys = self.key_projection(x).view(B, S, self.n_heads, -1)\n",
        "        values = self.value_projection(x).view(B, S, self.n_heads, -1)\n",
        "        #queries = queries.transpose(1, 2)\n",
        "        #keys = keys.transpose(1, 2)\n",
        "        #values = values.transpose(1, 2)\n",
        "        # 2. Non-negative projection\n",
        "        queries = self.kernel_method(queries)\n",
        "        keys = self.kernel_method(keys)\n",
        "        ## 3. linear-Attention\n",
        "        KV = torch.einsum(\"bshd,bshm->bhdm\", keys, values)\n",
        "        # Compute the normalizer\n",
        "        Z = 1/(torch.einsum(\"blhd,bhd->blh\", queries, keys.sum(dim=1))+self.eps)\n",
        "        # Finally compute and return the new values\n",
        "        out = torch.einsum(\"blhd,bhmd,blh->blhm\", queries, KV, Z)\n",
        "        ## Final projection\n",
        "        x = out.reshape(B, L, -1)\n",
        "        x = self.out_projection(x)\n",
        "        x = self.dropout(x)\n",
        "        return x\n",
        "\n",
        "\n",
        "class Linear_Attention_Causal(nn.Module):\n",
        "    # flow attention in causal version\n",
        "    def __init__(self, d_input, d_model, d_output, n_heads, drop_out=0.05, eps=1e-6):\n",
        "        super(Linear_Attention_Causal, self).__init__()\n",
        "        self.n_heads = n_heads\n",
        "        self.query_projection = nn.Linear(d_input, d_model)\n",
        "        self.key_projection = nn.Linear(d_input, d_model)\n",
        "        self.value_projection = nn.Linear(d_input, d_model)\n",
        "        self.out_projection = nn.Linear(d_model, d_output)\n",
        "        self.dropout = nn.Dropout(drop_out)\n",
        "        self.eps = eps\n",
        "\n",
        "    def kernel_method(self, x):\n",
        "        return torch.sigmoid(x)\n",
        "\n",
        "\n",
        "    def forward(self, x):\n",
        "        ## input: B (L or S) D; output: B L D\n",
        "        ## Note: queries, keys, values are not projected yet\n",
        "        ## 1. Linear projection\n",
        "        B, L, _ = x.shape\n",
        "        _, S, _ = x.shape\n",
        "        queries = self.query_projection(x).view(B, L, self.n_heads, -1)\n",
        "        keys = self.key_projection(x).view(B, S, self.n_heads, -1)\n",
        "        values = self.value_projection(x).view(B, S, self.n_heads, -1)\n",
        "        #queries = queries.transpose(1, 2)\n",
        "        #keys = keys.transpose(1, 2)\n",
        "        #values = values.transpose(1, 2)\n",
        "        # 2. Non-negative projection\n",
        "        queries = self.kernel_method(queries)\n",
        "        keys = self.kernel_method(keys)\n",
        "        ## 3. linear-Attention\n",
        "        KV = torch.einsum(\"bshd,bshm->bhsdm\", keys, values)\n",
        "        KV_cum = torch.cumsum(KV, dim=2)\n",
        "        # Compute the normalizer\n",
        "        K_cum = torch.cumsum(keys, dim=1)\n",
        "        ##\n",
        "        QKV = torch.einsum(\"bshd,bhsdm->bshm\", queries, KV_cum)\n",
        "\n",
        "        DENOM = (torch.einsum(\"bshd,bshd->bsh\", queries, K_cum)+self.eps)\n",
        "            # (N * h, L, d) (N * h, L, 1) -> (N * h, L, d)\n",
        "        out = QKV / DENOM.unsqueeze(-1)\n",
        "        ## Final projection\n",
        "        x = out.reshape(B, L, -1)\n",
        "        x = self.out_projection(x)\n",
        "        x = self.dropout(x)\n",
        "        return x\n",
        "\n",
        "\n",
        "if __name__ == '__main__':\n",
        "    # just for simple test\n",
        "    attn_normal = Linear_Attention(10, 16, 16, 4)\n",
        "    attn_causal = Linear_Attention_Causal(10, 16, 16, 4)\n",
        "    x = torch.rand([1, 100, 10])\n",
        "    x_attn_normal = attn_normal(x)\n",
        "    x_attn_causal = attn_causal(x)\n",
        "    assert x_attn_normal.shape == (1, 100, 16)\n",
        "    assert x_attn_causal.shape == (1, 100, 16)"
      ]
    },
    {
      "cell_type": "code",
      "source": [
        "x_attn_normal.size()"
      ],
      "metadata": {
        "colab": {
          "base_uri": "https://localhost:8080/"
        },
        "id": "tnodZkQPdsf5",
        "outputId": "1d361ee2-db23-4f48-a116-0bffeccdf590"
      },
      "execution_count": 13,
      "outputs": [
        {
          "output_type": "execute_result",
          "data": {
            "text/plain": [
              "torch.Size([1, 100, 16])"
            ]
          },
          "metadata": {},
          "execution_count": 13
        }
      ]
    },
    {
      "cell_type": "code",
      "source": [
        "x_attn_causal.size()"
      ],
      "metadata": {
        "colab": {
          "base_uri": "https://localhost:8080/"
        },
        "id": "WMWLxirsdwhd",
        "outputId": "6cf61fa8-a12d-4cf8-8b76-a5a4f7aefa4e"
      },
      "execution_count": 14,
      "outputs": [
        {
          "output_type": "execute_result",
          "data": {
            "text/plain": [
              "torch.Size([1, 100, 16])"
            ]
          },
          "metadata": {},
          "execution_count": 14
        }
      ]
    }
  ]
}